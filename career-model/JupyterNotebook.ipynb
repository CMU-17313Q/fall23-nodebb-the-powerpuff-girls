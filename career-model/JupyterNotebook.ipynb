{
 "cells": [
  {
   "cell_type": "markdown",
   "metadata": {},
   "source": [
    "## Installing Necessary Libraries"
   ]
  },
  {
   "cell_type": "code",
   "execution_count": 1,
   "metadata": {
    "scrolled": true
   },
   "outputs": [
    {
     "name": "stdout",
     "output_type": "stream",
     "text": [
      "Requirement already satisfied: matplotlib in /Users/SaraAl-Saloos/miniconda3/lib/python3.8/site-packages (3.5.2)\n",
      "Requirement already satisfied: cycler>=0.10 in /Users/SaraAl-Saloos/miniconda3/lib/python3.8/site-packages (from matplotlib) (0.11.0)\n",
      "Requirement already satisfied: fonttools>=4.22.0 in /Users/SaraAl-Saloos/miniconda3/lib/python3.8/site-packages (from matplotlib) (4.25.0)\n",
      "Requirement already satisfied: kiwisolver>=1.0.1 in /Users/SaraAl-Saloos/miniconda3/lib/python3.8/site-packages (from matplotlib) (1.4.2)\n",
      "Requirement already satisfied: numpy>=1.17 in /Users/SaraAl-Saloos/miniconda3/lib/python3.8/site-packages (from matplotlib) (1.21.5)\n",
      "Requirement already satisfied: packaging>=20.0 in /Users/SaraAl-Saloos/miniconda3/lib/python3.8/site-packages (from matplotlib) (21.3)\n",
      "Requirement already satisfied: pillow>=6.2.0 in /Users/SaraAl-Saloos/miniconda3/lib/python3.8/site-packages (from matplotlib) (9.2.0)\n",
      "Requirement already satisfied: pyparsing>=2.2.1 in /Users/SaraAl-Saloos/miniconda3/lib/python3.8/site-packages (from matplotlib) (3.0.4)\n",
      "Requirement already satisfied: python-dateutil>=2.7 in /Users/SaraAl-Saloos/miniconda3/lib/python3.8/site-packages (from matplotlib) (2.8.2)\n",
      "Requirement already satisfied: six>=1.5 in /Users/SaraAl-Saloos/miniconda3/lib/python3.8/site-packages (from python-dateutil>=2.7->matplotlib) (1.16.0)\n",
      "\u001b[33mWARNING: There was an error checking the latest version of pip.\u001b[0m\u001b[33m\n",
      "\u001b[0m"
     ]
    }
   ],
   "source": [
    "!python3 -m pip install matplotlib "
   ]
  },
  {
   "cell_type": "code",
   "execution_count": 2,
   "metadata": {
    "scrolled": true
   },
   "outputs": [
    {
     "name": "stdout",
     "output_type": "stream",
     "text": [
      "Requirement already satisfied: seaborn in /Users/SaraAl-Saloos/miniconda3/lib/python3.8/site-packages (0.11.2)\n",
      "Requirement already satisfied: numpy>=1.15 in /Users/SaraAl-Saloos/miniconda3/lib/python3.8/site-packages (from seaborn) (1.21.5)\n",
      "Requirement already satisfied: scipy>=1.0 in /Users/SaraAl-Saloos/miniconda3/lib/python3.8/site-packages (from seaborn) (1.7.3)\n",
      "Requirement already satisfied: pandas>=0.23 in /Users/SaraAl-Saloos/miniconda3/lib/python3.8/site-packages (from seaborn) (1.4.3)\n",
      "Requirement already satisfied: matplotlib>=2.2 in /Users/SaraAl-Saloos/miniconda3/lib/python3.8/site-packages (from seaborn) (3.5.2)\n",
      "Requirement already satisfied: cycler>=0.10 in /Users/SaraAl-Saloos/miniconda3/lib/python3.8/site-packages (from matplotlib>=2.2->seaborn) (0.11.0)\n",
      "Requirement already satisfied: fonttools>=4.22.0 in /Users/SaraAl-Saloos/miniconda3/lib/python3.8/site-packages (from matplotlib>=2.2->seaborn) (4.25.0)\n",
      "Requirement already satisfied: kiwisolver>=1.0.1 in /Users/SaraAl-Saloos/miniconda3/lib/python3.8/site-packages (from matplotlib>=2.2->seaborn) (1.4.2)\n",
      "Requirement already satisfied: packaging>=20.0 in /Users/SaraAl-Saloos/miniconda3/lib/python3.8/site-packages (from matplotlib>=2.2->seaborn) (21.3)\n",
      "Requirement already satisfied: pillow>=6.2.0 in /Users/SaraAl-Saloos/miniconda3/lib/python3.8/site-packages (from matplotlib>=2.2->seaborn) (9.2.0)\n",
      "Requirement already satisfied: pyparsing>=2.2.1 in /Users/SaraAl-Saloos/miniconda3/lib/python3.8/site-packages (from matplotlib>=2.2->seaborn) (3.0.4)\n",
      "Requirement already satisfied: python-dateutil>=2.7 in /Users/SaraAl-Saloos/miniconda3/lib/python3.8/site-packages (from matplotlib>=2.2->seaborn) (2.8.2)\n",
      "Requirement already satisfied: pytz>=2020.1 in /Users/SaraAl-Saloos/miniconda3/lib/python3.8/site-packages (from pandas>=0.23->seaborn) (2022.1)\n",
      "Requirement already satisfied: six>=1.5 in /Users/SaraAl-Saloos/miniconda3/lib/python3.8/site-packages (from python-dateutil>=2.7->matplotlib>=2.2->seaborn) (1.16.0)\n",
      "\u001b[33mWARNING: There was an error checking the latest version of pip.\u001b[0m\u001b[33m\n",
      "\u001b[0m"
     ]
    }
   ],
   "source": [
    "!python3 -m pip install seaborn "
   ]
  },
  {
   "cell_type": "code",
   "execution_count": 3,
   "metadata": {
    "scrolled": true
   },
   "outputs": [
    {
     "name": "stdout",
     "output_type": "stream",
     "text": [
      "Requirement already satisfied: joblib==1.2.0 in /Users/SaraAl-Saloos/miniconda3/lib/python3.8/site-packages (from -r requirements.txt (line 1)) (1.2.0)\n",
      "Collecting numpy==1.24.2 (from -r requirements.txt (line 2))\n",
      "  Downloading numpy-1.24.2-cp38-cp38-macosx_11_0_arm64.whl (13.8 MB)\n",
      "\u001b[2K     \u001b[90m━━━━━━━━━━━━━━━━━━━━━━━━━━━━━━━━━━━━━━━━\u001b[0m \u001b[32m13.8/13.8 MB\u001b[0m \u001b[31m5.4 MB/s\u001b[0m eta \u001b[36m0:00:00\u001b[0m00:01\u001b[0m00:01\u001b[0m\n",
      "\u001b[?25hCollecting pandas==1.5.3 (from -r requirements.txt (line 3))\n",
      "  Downloading pandas-1.5.3-cp38-cp38-macosx_11_0_arm64.whl (10.8 MB)\n",
      "\u001b[2K     \u001b[90m━━━━━━━━━━━━━━━━━━━━━━━━━━━━━━━━━━━━━━━━\u001b[0m \u001b[32m10.8/10.8 MB\u001b[0m \u001b[31m7.6 MB/s\u001b[0m eta \u001b[36m0:00:00\u001b[0m00:01\u001b[0m00:01\u001b[0m\n",
      "\u001b[?25hCollecting pydantic==1.10.6 (from -r requirements.txt (line 4))\n",
      "  Downloading pydantic-1.10.6-cp38-cp38-macosx_11_0_arm64.whl (2.5 MB)\n",
      "\u001b[2K     \u001b[90m━━━━━━━━━━━━━━━━━━━━━━━━━━━━━━━━━━━━━━━━\u001b[0m \u001b[32m2.5/2.5 MB\u001b[0m \u001b[31m7.4 MB/s\u001b[0m eta \u001b[36m0:00:00\u001b[0m00:01\u001b[0m00:01\u001b[0mm\n",
      "\u001b[?25hRequirement already satisfied: python-dateutil==2.8.2 in /Users/SaraAl-Saloos/miniconda3/lib/python3.8/site-packages (from -r requirements.txt (line 5)) (2.8.2)\n",
      "Collecting pytz==2022.7.1 (from -r requirements.txt (line 6))\n",
      "  Downloading pytz-2022.7.1-py2.py3-none-any.whl (499 kB)\n",
      "\u001b[2K     \u001b[90m━━━━━━━━━━━━━━━━━━━━━━━━━━━━━━━━━━━━━━━\u001b[0m \u001b[32m499.4/499.4 kB\u001b[0m \u001b[31m7.0 MB/s\u001b[0m eta \u001b[36m0:00:00\u001b[0ma \u001b[36m0:00:01\u001b[0m\n",
      "\u001b[?25hCollecting scikit-learn==1.2.1 (from -r requirements.txt (line 7))\n",
      "  Downloading scikit_learn-1.2.1-cp38-cp38-macosx_12_0_arm64.whl (8.3 MB)\n",
      "\u001b[2K     \u001b[90m━━━━━━━━━━━━━━━━━━━━━━━━━━━━━━━━━━━━━━━━\u001b[0m \u001b[32m8.3/8.3 MB\u001b[0m \u001b[31m6.6 MB/s\u001b[0m eta \u001b[36m0:00:00\u001b[0m00:01\u001b[0m00:01\u001b[0mm\n",
      "\u001b[?25hCollecting scipy==1.10.1 (from -r requirements.txt (line 8))\n",
      "  Downloading scipy-1.10.1-cp38-cp38-macosx_12_0_arm64.whl (28.8 MB)\n",
      "\u001b[2K     \u001b[90m━━━━━━━━━━━━━━━━━━━━━━━━━━━━━━━━━━━━━━━━\u001b[0m \u001b[32m28.8/28.8 MB\u001b[0m \u001b[31m8.7 MB/s\u001b[0m eta \u001b[36m0:00:00\u001b[0m00:01\u001b[0m00:01\u001b[0m\n",
      "\u001b[?25hRequirement already satisfied: six==1.16.0 in /Users/SaraAl-Saloos/miniconda3/lib/python3.8/site-packages (from -r requirements.txt (line 9)) (1.16.0)\n",
      "Collecting threadpoolctl==3.1.0 (from -r requirements.txt (line 10))\n",
      "  Downloading threadpoolctl-3.1.0-py3-none-any.whl (14 kB)\n",
      "Collecting typing_extensions==4.5.0 (from -r requirements.txt (line 11))\n",
      "  Downloading typing_extensions-4.5.0-py3-none-any.whl (27 kB)\n",
      "Installing collected packages: pytz, typing_extensions, threadpoolctl, numpy, scipy, pydantic, pandas, scikit-learn\n",
      "  Attempting uninstall: pytz\n",
      "    Found existing installation: pytz 2022.1\n",
      "    Uninstalling pytz-2022.1:\n",
      "      Successfully uninstalled pytz-2022.1\n",
      "  Attempting uninstall: typing_extensions\n",
      "    Found existing installation: typing_extensions 4.8.0\n",
      "    Uninstalling typing_extensions-4.8.0:\n",
      "      Successfully uninstalled typing_extensions-4.8.0\n",
      "  Attempting uninstall: threadpoolctl\n",
      "    Found existing installation: threadpoolctl 2.2.0\n",
      "    Uninstalling threadpoolctl-2.2.0:\n",
      "      Successfully uninstalled threadpoolctl-2.2.0\n",
      "  Attempting uninstall: numpy\n",
      "    Found existing installation: numpy 1.21.5\n",
      "    Uninstalling numpy-1.21.5:\n",
      "      Successfully uninstalled numpy-1.21.5\n",
      "  Attempting uninstall: scipy\n",
      "    Found existing installation: scipy 1.7.3\n",
      "    Uninstalling scipy-1.7.3:\n",
      "      Successfully uninstalled scipy-1.7.3\n",
      "  Attempting uninstall: pydantic\n",
      "    Found existing installation: pydantic 1.10.13\n",
      "    Uninstalling pydantic-1.10.13:\n",
      "      Successfully uninstalled pydantic-1.10.13\n",
      "  Attempting uninstall: pandas\n",
      "    Found existing installation: pandas 1.4.3\n",
      "    Uninstalling pandas-1.4.3:\n",
      "      Successfully uninstalled pandas-1.4.3\n",
      "  Attempting uninstall: scikit-learn\n",
      "    Found existing installation: scikit-learn 1.1.3\n",
      "    Uninstalling scikit-learn-1.1.3:\n",
      "      Successfully uninstalled scikit-learn-1.1.3\n",
      "Successfully installed numpy-1.24.2 pandas-1.5.3 pydantic-1.10.6 pytz-2022.7.1 scikit-learn-1.2.1 scipy-1.10.1 threadpoolctl-3.1.0 typing_extensions-4.5.0\n",
      "\u001b[33mWARNING: There was an error checking the latest version of pip.\u001b[0m\u001b[33m\n",
      "\u001b[0m"
     ]
    }
   ],
   "source": [
    "!pip install -r requirements.txt"
   ]
  },
  {
   "cell_type": "code",
   "execution_count": null,
   "metadata": {},
   "outputs": [],
   "source": [
    "import predict\n",
    "import csv\n",
    "import numpy as np\n",
    "import matplotlib.pyplot as plt\n",
    "import pandas as pd\n",
    "import joblib\n",
    "import seaborn as sns"
   ]
  },
  {
   "cell_type": "code",
   "execution_count": 6,
   "metadata": {},
   "outputs": [
    {
     "data": {
      "text/html": [
       "<div>\n",
       "<style scoped>\n",
       "    .dataframe tbody tr th:only-of-type {\n",
       "        vertical-align: middle;\n",
       "    }\n",
       "\n",
       "    .dataframe tbody tr th {\n",
       "        vertical-align: top;\n",
       "    }\n",
       "\n",
       "    .dataframe thead th {\n",
       "        text-align: right;\n",
       "    }\n",
       "</style>\n",
       "<table border=\"1\" class=\"dataframe\">\n",
       "  <thead>\n",
       "    <tr style=\"text-align: right;\">\n",
       "      <th></th>\n",
       "      <th>Student ID</th>\n",
       "      <th>Gender</th>\n",
       "      <th>Age</th>\n",
       "      <th>Major</th>\n",
       "      <th>GPA</th>\n",
       "      <th>Extra Curricular</th>\n",
       "      <th>Num Programming Languages</th>\n",
       "      <th>Num Past Internships</th>\n",
       "      <th>Good Candidate</th>\n",
       "    </tr>\n",
       "  </thead>\n",
       "  <tbody>\n",
       "    <tr>\n",
       "      <th>0</th>\n",
       "      <td>0</td>\n",
       "      <td>F</td>\n",
       "      <td>21</td>\n",
       "      <td>Statistics and Machine Learning</td>\n",
       "      <td>2.83</td>\n",
       "      <td>Sorority</td>\n",
       "      <td>4</td>\n",
       "      <td>1</td>\n",
       "      <td>0</td>\n",
       "    </tr>\n",
       "    <tr>\n",
       "      <th>1</th>\n",
       "      <td>1</td>\n",
       "      <td>M</td>\n",
       "      <td>20</td>\n",
       "      <td>Information Systems</td>\n",
       "      <td>2.89</td>\n",
       "      <td>Fraternity</td>\n",
       "      <td>5</td>\n",
       "      <td>3</td>\n",
       "      <td>0</td>\n",
       "    </tr>\n",
       "    <tr>\n",
       "      <th>2</th>\n",
       "      <td>2</td>\n",
       "      <td>F</td>\n",
       "      <td>20</td>\n",
       "      <td>Math</td>\n",
       "      <td>2.66</td>\n",
       "      <td>Teaching Assistant</td>\n",
       "      <td>3</td>\n",
       "      <td>1</td>\n",
       "      <td>0</td>\n",
       "    </tr>\n",
       "    <tr>\n",
       "      <th>3</th>\n",
       "      <td>3</td>\n",
       "      <td>M</td>\n",
       "      <td>20</td>\n",
       "      <td>Information Systems</td>\n",
       "      <td>2.48</td>\n",
       "      <td>Fraternity</td>\n",
       "      <td>5</td>\n",
       "      <td>0</td>\n",
       "      <td>0</td>\n",
       "    </tr>\n",
       "    <tr>\n",
       "      <th>4</th>\n",
       "      <td>4</td>\n",
       "      <td>F</td>\n",
       "      <td>21</td>\n",
       "      <td>Statistics and Machine Learning</td>\n",
       "      <td>3.30</td>\n",
       "      <td>Sorority</td>\n",
       "      <td>2</td>\n",
       "      <td>1</td>\n",
       "      <td>0</td>\n",
       "    </tr>\n",
       "  </tbody>\n",
       "</table>\n",
       "</div>"
      ],
      "text/plain": [
       "   Student ID Gender  Age                            Major   GPA  \\\n",
       "0           0      F   21  Statistics and Machine Learning  2.83   \n",
       "1           1      M   20              Information Systems  2.89   \n",
       "2           2      F   20                             Math  2.66   \n",
       "3           3      M   20              Information Systems  2.48   \n",
       "4           4      F   21  Statistics and Machine Learning  3.30   \n",
       "\n",
       "     Extra Curricular  Num Programming Languages  Num Past Internships  \\\n",
       "0            Sorority                          4                     1   \n",
       "1          Fraternity                          5                     3   \n",
       "2  Teaching Assistant                          3                     1   \n",
       "3          Fraternity                          5                     0   \n",
       "4            Sorority                          2                     1   \n",
       "\n",
       "   Good Candidate  \n",
       "0               0  \n",
       "1               0  \n",
       "2               0  \n",
       "3               0  \n",
       "4               0  "
      ]
     },
     "execution_count": 6,
     "metadata": {},
     "output_type": "execute_result"
    }
   ],
   "source": [
    "# Loading the test dataset\n",
    "df = pd.read_csv('student_data.csv')\n",
    "df.head()"
   ]
  },
  {
   "cell_type": "code",
   "execution_count": 7,
   "metadata": {
    "scrolled": true
   },
   "outputs": [
    {
     "data": {
      "text/html": [
       "<div>\n",
       "<style scoped>\n",
       "    .dataframe tbody tr th:only-of-type {\n",
       "        vertical-align: middle;\n",
       "    }\n",
       "\n",
       "    .dataframe tbody tr th {\n",
       "        vertical-align: top;\n",
       "    }\n",
       "\n",
       "    .dataframe thead th {\n",
       "        text-align: right;\n",
       "    }\n",
       "</style>\n",
       "<table border=\"1\" class=\"dataframe\">\n",
       "  <thead>\n",
       "    <tr style=\"text-align: right;\">\n",
       "      <th></th>\n",
       "      <th>Student ID</th>\n",
       "      <th>Age</th>\n",
       "      <th>GPA</th>\n",
       "      <th>Num Programming Languages</th>\n",
       "      <th>Num Past Internships</th>\n",
       "      <th>Good Candidate</th>\n",
       "    </tr>\n",
       "  </thead>\n",
       "  <tbody>\n",
       "    <tr>\n",
       "      <th>count</th>\n",
       "      <td>500.000000</td>\n",
       "      <td>500.000000</td>\n",
       "      <td>500.000000</td>\n",
       "      <td>500.00000</td>\n",
       "      <td>500.000000</td>\n",
       "      <td>500.000000</td>\n",
       "    </tr>\n",
       "    <tr>\n",
       "      <th>mean</th>\n",
       "      <td>249.500000</td>\n",
       "      <td>20.944000</td>\n",
       "      <td>2.905780</td>\n",
       "      <td>3.04600</td>\n",
       "      <td>2.052000</td>\n",
       "      <td>0.474000</td>\n",
       "    </tr>\n",
       "    <tr>\n",
       "      <th>std</th>\n",
       "      <td>144.481833</td>\n",
       "      <td>1.455025</td>\n",
       "      <td>0.839559</td>\n",
       "      <td>1.36073</td>\n",
       "      <td>1.407572</td>\n",
       "      <td>0.499824</td>\n",
       "    </tr>\n",
       "    <tr>\n",
       "      <th>min</th>\n",
       "      <td>0.000000</td>\n",
       "      <td>18.000000</td>\n",
       "      <td>0.000000</td>\n",
       "      <td>1.00000</td>\n",
       "      <td>0.000000</td>\n",
       "      <td>0.000000</td>\n",
       "    </tr>\n",
       "    <tr>\n",
       "      <th>25%</th>\n",
       "      <td>124.750000</td>\n",
       "      <td>20.000000</td>\n",
       "      <td>2.345000</td>\n",
       "      <td>2.00000</td>\n",
       "      <td>1.000000</td>\n",
       "      <td>0.000000</td>\n",
       "    </tr>\n",
       "    <tr>\n",
       "      <th>50%</th>\n",
       "      <td>249.500000</td>\n",
       "      <td>21.000000</td>\n",
       "      <td>2.990000</td>\n",
       "      <td>3.00000</td>\n",
       "      <td>2.000000</td>\n",
       "      <td>0.000000</td>\n",
       "    </tr>\n",
       "    <tr>\n",
       "      <th>75%</th>\n",
       "      <td>374.250000</td>\n",
       "      <td>22.000000</td>\n",
       "      <td>3.560000</td>\n",
       "      <td>4.00000</td>\n",
       "      <td>3.000000</td>\n",
       "      <td>1.000000</td>\n",
       "    </tr>\n",
       "    <tr>\n",
       "      <th>max</th>\n",
       "      <td>499.000000</td>\n",
       "      <td>25.000000</td>\n",
       "      <td>4.000000</td>\n",
       "      <td>5.00000</td>\n",
       "      <td>4.000000</td>\n",
       "      <td>1.000000</td>\n",
       "    </tr>\n",
       "  </tbody>\n",
       "</table>\n",
       "</div>"
      ],
      "text/plain": [
       "       Student ID         Age         GPA  Num Programming Languages  \\\n",
       "count  500.000000  500.000000  500.000000                  500.00000   \n",
       "mean   249.500000   20.944000    2.905780                    3.04600   \n",
       "std    144.481833    1.455025    0.839559                    1.36073   \n",
       "min      0.000000   18.000000    0.000000                    1.00000   \n",
       "25%    124.750000   20.000000    2.345000                    2.00000   \n",
       "50%    249.500000   21.000000    2.990000                    3.00000   \n",
       "75%    374.250000   22.000000    3.560000                    4.00000   \n",
       "max    499.000000   25.000000    4.000000                    5.00000   \n",
       "\n",
       "       Num Past Internships  Good Candidate  \n",
       "count            500.000000      500.000000  \n",
       "mean               2.052000        0.474000  \n",
       "std                1.407572        0.499824  \n",
       "min                0.000000        0.000000  \n",
       "25%                1.000000        0.000000  \n",
       "50%                2.000000        0.000000  \n",
       "75%                3.000000        1.000000  \n",
       "max                4.000000        1.000000  "
      ]
     },
     "execution_count": 7,
     "metadata": {},
     "output_type": "execute_result"
    }
   ],
   "source": [
    "df.describe()"
   ]
  },
  {
   "cell_type": "markdown",
   "metadata": {},
   "source": [
    "## Distribution of features in the dataset using visualizations"
   ]
  },
  {
   "cell_type": "code",
   "execution_count": 8,
   "metadata": {},
   "outputs": [
    {
     "data": {
      "text/plain": [
       "Index(['Student ID', 'Gender', 'Age', 'Major', 'GPA', 'Extra Curricular',\n",
       "       'Num Programming Languages', 'Num Past Internships', 'Good Candidate'],\n",
       "      dtype='object')"
      ]
     },
     "execution_count": 8,
     "metadata": {},
     "output_type": "execute_result"
    }
   ],
   "source": [
    "df.columns"
   ]
  },
  {
   "cell_type": "code",
   "execution_count": 9,
   "metadata": {},
   "outputs": [
    {
     "data": {
      "image/png": "[encoded data removed]",
      "text/plain": [
       "<Figure size 432x288 with 1 Axes>"
      ]
     },
     "metadata": {
      "needs_background": "light"
     },
     "output_type": "display_data"
    }
   ],
   "source": [
    "#Gender\n",
    "\n",
    "custom_palette = sns.color_palette(\"husl\", n_colors=len(df['Gender'].unique()))\n",
    "\n",
    "# Create the count plot\n",
    "sns.countplot(x='Gender', data=df, palette=custom_palette)\n",
    "\n",
    "# Set labels and title\n",
    "plt.xlabel(\"Gender\")\n",
    "plt.ylabel(\"Count\")\n",
    "plt.title(\"Distribution of Gender\")\n",
    "\n",
    "# Show the plot\n",
    "plt.show()"
   ]
  },
  {
   "cell_type": "code",
   "execution_count": 10,
   "metadata": {},
   "outputs": [
    {
     "data": {
      "text/plain": [
       "Text(0.5, 1.0, 'Distribution of Major')"
      ]
     },
     "execution_count": 10,
     "metadata": {},
     "output_type": "execute_result"
    },
    {
     "data": {
      "image/png": "[encoded data removed]",
      "text/plain": [
       "<Figure size 432x288 with 1 Axes>"
      ]
     },
     "metadata": {
      "needs_background": "light"
     },
     "output_type": "display_data"
    }
   ],
   "source": [
    "\n",
    "sns.countplot(data = df, y = 'Major', order = df['Major'].value_counts().index, hue = 'Major')\n",
    "plt.title(\"Distribution of Major\")"
   ]
  },
  {
   "cell_type": "code",
   "execution_count": 11,
   "metadata": {},
   "outputs": [
    {
     "data": {
      "text/plain": [
       "<AxesSubplot:xlabel='Age', ylabel='Count'>"
      ]
     },
     "execution_count": 11,
     "metadata": {},
     "output_type": "execute_result"
    },
    {
     "data": {
      "image/png": "[encoded data removed]",
      "text/plain": [
       "<Figure size 432x288 with 1 Axes>"
      ]
     },
     "metadata": {
      "needs_background": "light"
     },
     "output_type": "display_data"
    }
   ],
   "source": [
    "# Age\n",
    "#df.groupby('Age').size().plot(kind='bar', title='Distribution of Age', ylabel='No. of Students')\n",
    "sns.histplot(data=df, x=\"Age\", kde=True, bins = 10)"
   ]
  },
  {
   "cell_type": "code",
   "execution_count": 12,
   "metadata": {},
   "outputs": [
    {
     "data": {
      "text/plain": [
       "[Text(0.5, 1.0, 'Distribution of GPA')]"
      ]
     },
     "execution_count": 12,
     "metadata": {},
     "output_type": "execute_result"
    },
    {
     "data": {
      "image/png": "[encoded data removed]",
      "text/plain": [
       "<Figure size 432x288 with 1 Axes>"
      ]
     },
     "metadata": {
      "needs_background": "light"
     },
     "output_type": "display_data"
    }
   ],
   "source": [
    "# GPA\n",
    "\n",
    "sns.histplot(data=df, x=\"GPA\", kde=True).set(title='Distribution of GPA')"
   ]
  },
  {
   "cell_type": "code",
   "execution_count": 13,
   "metadata": {},
   "outputs": [
    {
     "data": {
      "text/plain": [
       "Text(0.5, 1.0, 'Distribution of Extra-Curriculars')"
      ]
     },
     "execution_count": 13,
     "metadata": {},
     "output_type": "execute_result"
    },
    {
     "data": {
      "image/png": "[encoded data removed]",
      "text/plain": [
       "<Figure size 432x288 with 1 Axes>"
      ]
     },
     "metadata": {
      "needs_background": "light"
     },
     "output_type": "display_data"
    }
   ],
   "source": [
    "# Extra Curricular\n",
    "color = ['black','red','green','orange','blue','limegreen','darkgreen','royalblue','navy','red','pink','orange']\n",
    "\n",
    "\n",
    "sns.countplot(data = df, y = 'Extra Curricular', order = df['Extra Curricular'].value_counts().index, hue='Extra Curricular')\n",
    "plt.title(\"Distribution of Extra-Curriculars\")"
   ]
  },
  {
   "cell_type": "code",
   "execution_count": 14,
   "metadata": {
    "scrolled": true
   },
   "outputs": [
    {
     "data": {
      "image/png": "[encoded data removed]",
      "text/plain": [
       "<Figure size 432x288 with 1 Axes>"
      ]
     },
     "metadata": {
      "needs_background": "light"
     },
     "output_type": "display_data"
    }
   ],
   "source": [
    "# Programming Languages\n",
    "custom_palette = sns.color_palette(\"husl\", n_colors=len(df['Num Programming Languages'].unique()))\n",
    "\n",
    "# Create the count plot\n",
    "sns.countplot(x='Num Programming Languages', data=df, palette=custom_palette)\n",
    "\n",
    "# Set labels and title\n",
    "plt.xlabel(\"Num Programming Languages\")\n",
    "plt.ylabel(\"Count\")\n",
    "plt.title(\"Distribution of No. of Programming Languages\")\n",
    "\n",
    "# Show the plot\n",
    "plt.show()"
   ]
  },
  {
   "cell_type": "code",
   "execution_count": 15,
   "metadata": {
    "scrolled": false
   },
   "outputs": [
    {
     "data": {
      "image/png": "[encoded data removed]",
      "text/plain": [
       "<Figure size 432x288 with 1 Axes>"
      ]
     },
     "metadata": {
      "needs_background": "light"
     },
     "output_type": "display_data"
    }
   ],
   "source": [
    "#Past Internships\n",
    "custom_palette = sns.color_palette(\"husl\", n_colors=len(df['Num Past Internships'].unique()))\n",
    "\n",
    "# Create the count plot\n",
    "sns.countplot(x='Num Past Internships', data=df, palette=custom_palette)\n",
    "\n",
    "# Set labels and title\n",
    "plt.xlabel(\"Num Past Internships\")\n",
    "plt.ylabel(\"Count\")\n",
    "plt.title(\"Distribution of No. of Past Internships\")\n",
    "\n",
    "# Show the plot\n",
    "plt.show()"
   ]
  },
  {
   "cell_type": "code",
   "execution_count": 16,
   "metadata": {},
   "outputs": [
    {
     "data": {
      "image/png": "[encoded data removed]",
      "text/plain": [
       "<Figure size 432x288 with 1 Axes>"
      ]
     },
     "metadata": {
      "needs_background": "light"
     },
     "output_type": "display_data"
    }
   ],
   "source": [
    "# Good Candidate\n",
    "\n",
    "custom_palette = sns.color_palette(\"husl\", n_colors=len(df['Good Candidate'].unique()))\n",
    "\n",
    "# Create the count plot\n",
    "sns.countplot(x='Good Candidate', data=df, palette=custom_palette)\n",
    "\n",
    "# Set labels and title\n",
    "plt.xlabel(\"Good Candidate\")\n",
    "plt.ylabel(\"Count\")\n",
    "plt.title(\"Distribution of Good Candidate\")\n",
    "\n",
    "# Show the plot\n",
    "plt.show()"
   ]
  },
  {
   "cell_type": "markdown",
   "metadata": {},
   "source": [
    "## Predicting output of test data using model"
   ]
  },
  {
   "cell_type": "code",
   "execution_count": 17,
   "metadata": {},
   "outputs": [
    {
     "data": {
      "text/html": [
       "<div>\n",
       "<style scoped>\n",
       "    .dataframe tbody tr th:only-of-type {\n",
       "        vertical-align: middle;\n",
       "    }\n",
       "\n",
       "    .dataframe tbody tr th {\n",
       "        vertical-align: top;\n",
       "    }\n",
       "\n",
       "    .dataframe thead th {\n",
       "        text-align: right;\n",
       "    }\n",
       "</style>\n",
       "<table border=\"1\" class=\"dataframe\">\n",
       "  <thead>\n",
       "    <tr style=\"text-align: right;\">\n",
       "      <th></th>\n",
       "      <th>Student ID</th>\n",
       "      <th>Gender</th>\n",
       "      <th>Age</th>\n",
       "      <th>Major</th>\n",
       "      <th>GPA</th>\n",
       "      <th>Extra Curricular</th>\n",
       "      <th>Num Programming Languages</th>\n",
       "      <th>Num Past Internships</th>\n",
       "    </tr>\n",
       "  </thead>\n",
       "  <tbody>\n",
       "    <tr>\n",
       "      <th>0</th>\n",
       "      <td>0</td>\n",
       "      <td>F</td>\n",
       "      <td>21</td>\n",
       "      <td>Statistics and Machine Learning</td>\n",
       "      <td>2.83</td>\n",
       "      <td>Sorority</td>\n",
       "      <td>4</td>\n",
       "      <td>1</td>\n",
       "    </tr>\n",
       "    <tr>\n",
       "      <th>1</th>\n",
       "      <td>1</td>\n",
       "      <td>M</td>\n",
       "      <td>20</td>\n",
       "      <td>Information Systems</td>\n",
       "      <td>2.89</td>\n",
       "      <td>Fraternity</td>\n",
       "      <td>5</td>\n",
       "      <td>3</td>\n",
       "    </tr>\n",
       "    <tr>\n",
       "      <th>2</th>\n",
       "      <td>2</td>\n",
       "      <td>F</td>\n",
       "      <td>20</td>\n",
       "      <td>Math</td>\n",
       "      <td>2.66</td>\n",
       "      <td>Teaching Assistant</td>\n",
       "      <td>3</td>\n",
       "      <td>1</td>\n",
       "    </tr>\n",
       "    <tr>\n",
       "      <th>3</th>\n",
       "      <td>3</td>\n",
       "      <td>M</td>\n",
       "      <td>20</td>\n",
       "      <td>Information Systems</td>\n",
       "      <td>2.48</td>\n",
       "      <td>Fraternity</td>\n",
       "      <td>5</td>\n",
       "      <td>0</td>\n",
       "    </tr>\n",
       "    <tr>\n",
       "      <th>4</th>\n",
       "      <td>4</td>\n",
       "      <td>F</td>\n",
       "      <td>21</td>\n",
       "      <td>Statistics and Machine Learning</td>\n",
       "      <td>3.30</td>\n",
       "      <td>Sorority</td>\n",
       "      <td>2</td>\n",
       "      <td>1</td>\n",
       "    </tr>\n",
       "  </tbody>\n",
       "</table>\n",
       "</div>"
      ],
      "text/plain": [
       "   Student ID Gender  Age                            Major   GPA  \\\n",
       "0           0      F   21  Statistics and Machine Learning  2.83   \n",
       "1           1      M   20              Information Systems  2.89   \n",
       "2           2      F   20                             Math  2.66   \n",
       "3           3      M   20              Information Systems  2.48   \n",
       "4           4      F   21  Statistics and Machine Learning  3.30   \n",
       "\n",
       "     Extra Curricular  Num Programming Languages  Num Past Internships  \n",
       "0            Sorority                          4                     1  \n",
       "1          Fraternity                          5                     3  \n",
       "2  Teaching Assistant                          3                     1  \n",
       "3          Fraternity                          5                     0  \n",
       "4            Sorority                          2                     1  "
      ]
     },
     "execution_count": 17,
     "metadata": {},
     "output_type": "execute_result"
    }
   ],
   "source": [
    "#test_df = df.drop(['Good Candidate'], axis=1)\n",
    "X = df.drop(['Good Candidate'], axis=1)\n",
    "y = df['Good Candidate']\n",
    "X.head()"
   ]
  },
  {
   "cell_type": "code",
   "execution_count": 18,
   "metadata": {},
   "outputs": [
    {
     "data": {
      "text/html": [
       "<style>#sk-container-id-1 {color: black;background-color: white;}#sk-container-id-1 pre{padding: 0;}#sk-container-id-1 div.sk-toggleable {background-color: white;}#sk-container-id-1 label.sk-toggleable__label {cursor: pointer;display: block;width: 100%;margin-bottom: 0;padding: 0.3em;box-sizing: border-box;text-align: center;}#sk-container-id-1 label.sk-toggleable__label-arrow:before {content: \"▸\";float: left;margin-right: 0.25em;color: #696969;}#sk-container-id-1 label.sk-toggleable__label-arrow:hover:before {color: black;}#sk-container-id-1 div.sk-estimator:hover label.sk-toggleable__label-arrow:before {color: black;}#sk-container-id-1 div.sk-toggleable__content {max-height: 0;max-width: 0;overflow: hidden;text-align: left;background-color: #f0f8ff;}#sk-container-id-1 div.sk-toggleable__content pre {margin: 0.2em;color: black;border-radius: 0.25em;background-color: #f0f8ff;}#sk-container-id-1 input.sk-toggleable__control:checked~div.sk-toggleable__content {max-height: 200px;max-width: 100%;overflow: auto;}#sk-container-id-1 input.sk-toggleable__control:checked~label.sk-toggleable__label-arrow:before {content: \"▾\";}#sk-container-id-1 div.sk-estimator input.sk-toggleable__control:checked~label.sk-toggleable__label {background-color: #d4ebff;}#sk-container-id-1 div.sk-label input.sk-toggleable__control:checked~label.sk-toggleable__label {background-color: #d4ebff;}#sk-container-id-1 input.sk-hidden--visually {border: 0;clip: rect(1px 1px 1px 1px);clip: rect(1px, 1px, 1px, 1px);height: 1px;margin: -1px;overflow: hidden;padding: 0;position: absolute;width: 1px;}#sk-container-id-1 div.sk-estimator {font-family: monospace;background-color: #f0f8ff;border: 1px dotted black;border-radius: 0.25em;box-sizing: border-box;margin-bottom: 0.5em;}#sk-container-id-1 div.sk-estimator:hover {background-color: #d4ebff;}#sk-container-id-1 div.sk-parallel-item::after {content: \"\";width: 100%;border-bottom: 1px solid gray;flex-grow: 1;}#sk-container-id-1 div.sk-label:hover label.sk-toggleable__label {background-color: #d4ebff;}#sk-container-id-1 div.sk-serial::before {content: \"\";position: absolute;border-left: 1px solid gray;box-sizing: border-box;top: 0;bottom: 0;left: 50%;z-index: 0;}#sk-container-id-1 div.sk-serial {display: flex;flex-direction: column;align-items: center;background-color: white;padding-right: 0.2em;padding-left: 0.2em;position: relative;}#sk-container-id-1 div.sk-item {position: relative;z-index: 1;}#sk-container-id-1 div.sk-parallel {display: flex;align-items: stretch;justify-content: center;background-color: white;position: relative;}#sk-container-id-1 div.sk-item::before, #sk-container-id-1 div.sk-parallel-item::before {content: \"\";position: absolute;border-left: 1px solid gray;box-sizing: border-box;top: 0;bottom: 0;left: 50%;z-index: -1;}#sk-container-id-1 div.sk-parallel-item {display: flex;flex-direction: column;z-index: 1;position: relative;background-color: white;}#sk-container-id-1 div.sk-parallel-item:first-child::after {align-self: flex-end;width: 50%;}#sk-container-id-1 div.sk-parallel-item:last-child::after {align-self: flex-start;width: 50%;}#sk-container-id-1 div.sk-parallel-item:only-child::after {width: 0;}#sk-container-id-1 div.sk-dashed-wrapped {border: 1px dashed gray;margin: 0 0.4em 0.5em 0.4em;box-sizing: border-box;padding-bottom: 0.4em;background-color: white;}#sk-container-id-1 div.sk-label label {font-family: monospace;font-weight: bold;display: inline-block;line-height: 1.2em;}#sk-container-id-1 div.sk-label-container {text-align: center;}#sk-container-id-1 div.sk-container {/* jupyter's `normalize.less` sets `[hidden] { display: none; }` but bootstrap.min.css set `[hidden] { display: none !important; }` so we also need the `!important` here to be able to override the default hidden behavior on the sphinx rendered scikit-learn.org. See: https://github.com/scikit-learn/scikit-learn/issues/21755 */display: inline-block !important;position: relative;}#sk-container-id-1 div.sk-text-repr-fallback {display: none;}</style><div id=\"sk-container-id-1\" class=\"sk-top-container\"><div class=\"sk-text-repr-fallback\"><pre>Pipeline(steps=[(&#x27;preprocessor&#x27;,\n",
       "                 ColumnTransformer(remainder=&#x27;passthrough&#x27;,\n",
       "                                   transformers=[(&#x27;One Hot Encode&#x27;,\n",
       "                                                  OneHotEncoder(), [1, 3])])),\n",
       "                (&#x27;classifier&#x27;,\n",
       "                 RandomForestClassifier(max_depth=10, max_features=None,\n",
       "                                        n_estimators=1000))])</pre><b>In a Jupyter environment, please rerun this cell to show the HTML representation or trust the notebook. <br />On GitHub, the HTML representation is unable to render, please try loading this page with nbviewer.org.</b></div><div class=\"sk-container\" hidden><div class=\"sk-item sk-dashed-wrapped\"><div class=\"sk-label-container\"><div class=\"sk-label sk-toggleable\"><input class=\"sk-toggleable__control sk-hidden--visually\" id=\"sk-estimator-id-1\" type=\"checkbox\" ><label for=\"sk-estimator-id-1\" class=\"sk-toggleable__label sk-toggleable__label-arrow\">Pipeline</label><div class=\"sk-toggleable__content\"><pre>Pipeline(steps=[(&#x27;preprocessor&#x27;,\n",
       "                 ColumnTransformer(remainder=&#x27;passthrough&#x27;,\n",
       "                                   transformers=[(&#x27;One Hot Encode&#x27;,\n",
       "                                                  OneHotEncoder(), [1, 3])])),\n",
       "                (&#x27;classifier&#x27;,\n",
       "                 RandomForestClassifier(max_depth=10, max_features=None,\n",
       "                                        n_estimators=1000))])</pre></div></div></div><div class=\"sk-serial\"><div class=\"sk-item sk-dashed-wrapped\"><div class=\"sk-label-container\"><div class=\"sk-label sk-toggleable\"><input class=\"sk-toggleable__control sk-hidden--visually\" id=\"sk-estimator-id-2\" type=\"checkbox\" ><label for=\"sk-estimator-id-2\" class=\"sk-toggleable__label sk-toggleable__label-arrow\">preprocessor: ColumnTransformer</label><div class=\"sk-toggleable__content\"><pre>ColumnTransformer(remainder=&#x27;passthrough&#x27;,\n",
       "                  transformers=[(&#x27;One Hot Encode&#x27;, OneHotEncoder(), [1, 3])])</pre></div></div></div><div class=\"sk-parallel\"><div class=\"sk-parallel-item\"><div class=\"sk-item\"><div class=\"sk-label-container\"><div class=\"sk-label sk-toggleable\"><input class=\"sk-toggleable__control sk-hidden--visually\" id=\"sk-estimator-id-3\" type=\"checkbox\" ><label for=\"sk-estimator-id-3\" class=\"sk-toggleable__label sk-toggleable__label-arrow\">One Hot Encode</label><div class=\"sk-toggleable__content\"><pre>[1, 3]</pre></div></div></div><div class=\"sk-serial\"><div class=\"sk-item\"><div class=\"sk-estimator sk-toggleable\"><input class=\"sk-toggleable__control sk-hidden--visually\" id=\"sk-estimator-id-4\" type=\"checkbox\" ><label for=\"sk-estimator-id-4\" class=\"sk-toggleable__label sk-toggleable__label-arrow\">OneHotEncoder</label><div class=\"sk-toggleable__content\"><pre>OneHotEncoder()</pre></div></div></div></div></div></div><div class=\"sk-parallel-item\"><div class=\"sk-item\"><div class=\"sk-label-container\"><div class=\"sk-label sk-toggleable\"><input class=\"sk-toggleable__control sk-hidden--visually\" id=\"sk-estimator-id-5\" type=\"checkbox\" ><label for=\"sk-estimator-id-5\" class=\"sk-toggleable__label sk-toggleable__label-arrow\">remainder</label><div class=\"sk-toggleable__content\"><pre>[&#x27;Age&#x27;, &#x27;GPA&#x27;, &#x27;Num Programming Languages&#x27;, &#x27;Num Past Internships&#x27;]</pre></div></div></div><div class=\"sk-serial\"><div class=\"sk-item\"><div class=\"sk-estimator sk-toggleable\"><input class=\"sk-toggleable__control sk-hidden--visually\" id=\"sk-estimator-id-6\" type=\"checkbox\" ><label for=\"sk-estimator-id-6\" class=\"sk-toggleable__label sk-toggleable__label-arrow\">passthrough</label><div class=\"sk-toggleable__content\"><pre>passthrough</pre></div></div></div></div></div></div></div></div><div class=\"sk-item\"><div class=\"sk-estimator sk-toggleable\"><input class=\"sk-toggleable__control sk-hidden--visually\" id=\"sk-estimator-id-7\" type=\"checkbox\" ><label for=\"sk-estimator-id-7\" class=\"sk-toggleable__label sk-toggleable__label-arrow\">RandomForestClassifier</label><div class=\"sk-toggleable__content\"><pre>RandomForestClassifier(max_depth=10, max_features=None, n_estimators=1000)</pre></div></div></div></div></div></div></div>"
      ],
      "text/plain": [
       "Pipeline(steps=[('preprocessor',\n",
       "                 ColumnTransformer(remainder='passthrough',\n",
       "                                   transformers=[('One Hot Encode',\n",
       "                                                  OneHotEncoder(), [1, 3])])),\n",
       "                ('classifier',\n",
       "                 RandomForestClassifier(max_depth=10, max_features=None,\n",
       "                                        n_estimators=1000))])"
      ]
     },
     "execution_count": 18,
     "metadata": {},
     "output_type": "execute_result"
    }
   ],
   "source": [
    "clf = joblib.load('./model.pkl')\n",
    "clf"
   ]
  },
  {
   "cell_type": "markdown",
   "metadata": {},
   "source": [
    "### Output of test dataset"
   ]
  },
  {
   "cell_type": "code",
   "execution_count": 19,
   "metadata": {
    "scrolled": true
   },
   "outputs": [
    {
     "data": {
      "text/plain": [
       "0      0\n",
       "1      1\n",
       "2      0\n",
       "3      1\n",
       "4      0\n",
       "      ..\n",
       "495    0\n",
       "496    1\n",
       "497    0\n",
       "498    1\n",
       "499    0\n",
       "Length: 500, dtype: int64"
      ]
     },
     "execution_count": 19,
     "metadata": {},
     "output_type": "execute_result"
    }
   ],
   "source": [
    "feature_cols = ['Student ID', 'Gender', 'Age', 'Major', 'GPA', 'Extra Curricular',\n",
    "       'Num Programming Languages', 'Num Past Internships']\n",
    "y_pred = clf.predict(df[feature_cols])\n",
    "y_pred = pd.Series(y_pred)\n",
    "y_pred"
   ]
  },
  {
   "cell_type": "code",
   "execution_count": 20,
   "metadata": {
    "scrolled": true
   },
   "outputs": [
    {
     "data": {
      "text/plain": [
       "0      0\n",
       "1      0\n",
       "2      0\n",
       "3      0\n",
       "4      0\n",
       "      ..\n",
       "495    0\n",
       "496    1\n",
       "497    0\n",
       "498    1\n",
       "499    0\n",
       "Name: Good Candidate, Length: 500, dtype: int64"
      ]
     },
     "execution_count": 20,
     "metadata": {},
     "output_type": "execute_result"
    }
   ],
   "source": [
    "y_true = df['Good Candidate']\n",
    "y_true"
   ]
  },
  {
   "cell_type": "markdown",
   "metadata": {},
   "source": [
    "### Accuracy"
   ]
  },
  {
   "cell_type": "code",
   "execution_count": 21,
   "metadata": {},
   "outputs": [
    {
     "name": "stdout",
     "output_type": "stream",
     "text": [
      "Test accuracy is 0.8320\n"
     ]
    }
   ],
   "source": [
    "print(f\"Test accuracy is {(y_true==y_pred).sum()/y.size:.4f}\")"
   ]
  },
  {
   "cell_type": "code",
   "execution_count": 22,
   "metadata": {},
   "outputs": [
    {
     "name": "stdout",
     "output_type": "stream",
     "text": [
      "The confusion matrix is\n"
     ]
    },
    {
     "data": {
      "text/plain": [
       "array([[221,  42],\n",
       "       [ 42, 195]])"
      ]
     },
     "execution_count": 22,
     "metadata": {},
     "output_type": "execute_result"
    }
   ],
   "source": [
    "from sklearn import metrics\n",
    "confusion_matrix = metrics.confusion_matrix(y, y_pred)\n",
    "print(\"The confusion matrix is\")\n",
    "confusion_matrix"
   ]
  },
  {
   "cell_type": "markdown",
   "metadata": {},
   "source": [
    "### Confusion Matrix and Performance Evaluation"
   ]
  },
  {
   "cell_type": "code",
   "execution_count": 23,
   "metadata": {
    "scrolled": true
   },
   "outputs": [
    {
     "data": {
      "text/plain": [
       "<sklearn.metrics._plot.confusion_matrix.ConfusionMatrixDisplay at 0x17f3f6070>"
      ]
     },
     "execution_count": 23,
     "metadata": {},
     "output_type": "execute_result"
    },
    {
     "data": {
      "image/png": "[encoded data removed]",
      "text/plain": [
       "<Figure size 432x288 with 2 Axes>"
      ]
     },
     "metadata": {
      "needs_background": "light"
     },
     "output_type": "display_data"
    }
   ],
   "source": [
    "cm_display = metrics.ConfusionMatrixDisplay(confusion_matrix = confusion_matrix, display_labels = [False, True])\n",
    "cm_display.plot()"
   ]
  },
  {
   "cell_type": "code",
   "execution_count": 81,
   "metadata": {},
   "outputs": [
    {
     "name": "stdout",
     "output_type": "stream",
     "text": [
      "Accuracy: 0.83\n",
      "Precision: 0.82\n",
      "Recall: 0.82\n",
      "Classification Report:\n",
      "              precision    recall  f1-score   support\n",
      "\n",
      "           0       0.84      0.84      0.84       263\n",
      "           1       0.82      0.82      0.82       237\n",
      "\n",
      "    accuracy                           0.83       500\n",
      "   macro avg       0.83      0.83      0.83       500\n",
      "weighted avg       0.83      0.83      0.83       500\n",
      "\n",
      "Confusion Matrix:\n",
      "[[221  42]\n",
      " [ 42 195]]\n"
     ]
    }
   ],
   "source": [
    "from sklearn.metrics import accuracy_score, precision_score, recall_score, classification_report, confusion_matrix\n",
    "\n",
    "# Assuming you have already trained your model (replace 'model' with your model)\n",
    "# Make predictions on the test dataset\n",
    "y_pred = clf.predict(X)\n",
    "\n",
    "# Calculate accuracy\n",
    "accuracy = accuracy_score(y_true, y_pred)\n",
    "print(f\"Accuracy: {accuracy:.2f}\")\n",
    "\n",
    "# Calculate precision and recall, and F1-score\n",
    "precision = precision_score(y_true, y_pred)\n",
    "recall = recall_score(y_true, y_pred)\n",
    "print(f\"Precision: {precision:.2f}\")\n",
    "print(f\"Recall: {recall:.2f}\")\n",
    "\n",
    "# Generate a classification report (includes precision, recall, and F1-score)\n",
    "print(\"Classification Report:\")\n",
    "print(classification_report(y_true, y_pred))\n",
    "\n",
    "# Create and display a confusion matrix\n",
    "confusion = confusion_matrix(y_true, y_pred)\n",
    "print(\"Confusion Matrix:\")\n",
    "print(confusion)\n"
   ]
  },
  {
   "cell_type": "code",
   "execution_count": 84,
   "metadata": {},
   "outputs": [
    {
     "name": "stdout",
     "output_type": "stream",
     "text": [
      "Confusion Matrix:\n",
      "[[221  42]\n",
      " [ 42 195]]\n",
      "True Positives: 195\n",
      "True Negatives: 221\n",
      "False Positives: 42\n",
      "False Negatives: 42\n",
      "Recall (True Positive Rate): 0.82\n",
      "Precision: 0.82\n"
     ]
    }
   ],
   "source": [
    "from sklearn.metrics import confusion_matrix, recall_score, precision_score\n",
    "\n",
    "y_true = df['Good Candidate']  # True labels (actual values)\n",
    "y_pred = clf.predict(X)  # Predicted labels\n",
    "\n",
    "# Calculate the confusion matrix\n",
    "confusion = confusion_matrix(y_true, y_pred)\n",
    "\n",
    "# Extract true positives (TP), true negatives (TN), false positives (FP), and false negatives (FN)\n",
    "TP = confusion[1, 1]\n",
    "TN = confusion[0, 0]\n",
    "FP = confusion[0, 1]\n",
    "FN = confusion[1, 0]\n",
    "\n",
    "# Calculate Recall (True Positive Rate)\n",
    "recall = recall_score(y_true, y_pred)\n",
    "\n",
    "# Calculate Precision\n",
    "precision = precision_score(y_true, y_pred)\n",
    "\n",
    "# Print the results\n",
    "print(\"Confusion Matrix:\")\n",
    "print(confusion)\n",
    "print(f\"True Positives: {TP}\")\n",
    "print(f\"True Negatives: {TN}\")\n",
    "print(f\"False Positives: {FP}\")\n",
    "print(f\"False Negatives: {FN}\")\n",
    "print(f\"Recall (True Positive Rate): {recall:.2f}\")\n",
    "print(f\"Precision: {precision:.2f}\")\n"
   ]
  },
  {
   "cell_type": "code",
   "execution_count": 85,
   "metadata": {},
   "outputs": [
    {
     "name": "stdout",
     "output_type": "stream",
     "text": [
      "-------- Age --------\n",
      "count    500.000000\n",
      "mean      20.944000\n",
      "std        1.455025\n",
      "min       18.000000\n",
      "25%       20.000000\n",
      "50%       21.000000\n",
      "75%       22.000000\n",
      "max       25.000000\n",
      "Name: Age, dtype: float64\n",
      "median   \t 21.0\n",
      "mode\n",
      " 0    21\n",
      "Name: Age, dtype: int64\n",
      "-------- GPA --------\n",
      "count    500.000000\n",
      "mean       2.905780\n",
      "std        0.839559\n",
      "min        0.000000\n",
      "25%        2.345000\n",
      "50%        2.990000\n",
      "75%        3.560000\n",
      "max        4.000000\n",
      "Name: GPA, dtype: float64\n",
      "median   \t 2.99\n",
      "mode\n",
      " 0    4.0\n",
      "Name: GPA, dtype: float64\n",
      "-------- Num Programming Languages --------\n",
      "count    500.00000\n",
      "mean       3.04600\n",
      "std        1.36073\n",
      "min        1.00000\n",
      "25%        2.00000\n",
      "50%        3.00000\n",
      "75%        4.00000\n",
      "max        5.00000\n",
      "Name: Num Programming Languages, dtype: float64\n",
      "median   \t 3.0\n",
      "mode\n",
      " 0    2\n",
      "1    3\n",
      "Name: Num Programming Languages, dtype: int64\n",
      "-------- Num Past Internships --------\n",
      "count    500.000000\n",
      "mean       2.052000\n",
      "std        1.407572\n",
      "min        0.000000\n",
      "25%        1.000000\n",
      "50%        2.000000\n",
      "75%        3.000000\n",
      "max        4.000000\n",
      "Name: Num Past Internships, dtype: float64\n",
      "median   \t 2.0\n",
      "mode\n",
      " 0    2\n",
      "Name: Num Past Internships, dtype: int64\n",
      "-------- Good Candidate --------\n",
      "count    500.000000\n",
      "mean       0.474000\n",
      "std        0.499824\n",
      "min        0.000000\n",
      "25%        0.000000\n",
      "50%        0.000000\n",
      "75%        1.000000\n",
      "max        1.000000\n",
      "Name: Good Candidate, dtype: float64\n",
      "median   \t 0.0\n",
      "mode\n",
      " 0    0\n",
      "Name: Good Candidate, dtype: int64\n"
     ]
    }
   ],
   "source": [
    "numFields = ['Age', 'GPA', 'Num Programming Languages', 'Num Past Internships', 'Good Candidate']\n",
    "for field in numFields:\n",
    "  print(f\"-------- {field} --------\")\n",
    "  print(df[field].describe())\n",
    "  print(\"median   \\t\", df[field].median())\n",
    "  print(\"mode\\n\", df[field].mode())"
   ]
  },
  {
   "cell_type": "code",
   "execution_count": 86,
   "metadata": {},
   "outputs": [
    {
     "name": "stdout",
     "output_type": "stream",
     "text": [
      "{\n",
      "    \"Age\": {\n",
      "        \"18\": 24,\n",
      "        \"19\": 55,\n",
      "        \"20\": 111,\n",
      "        \"21\": 140,\n",
      "        \"22\": 99,\n",
      "        \"23\": 51,\n",
      "        \"24\": 16,\n",
      "        \"25\": 4\n",
      "    },\n",
      "    \"Extra Curricular\": {\n",
      "        \"American Football\": 42,\n",
      "        \"Buggy\": 42,\n",
      "        \"Fraternity\": 32,\n",
      "        \"Men's Basketball\": 36,\n",
      "        \"Men's Golf\": 38,\n",
      "        \"Society of Women Engineers\": 43,\n",
      "        \"Sorority\": 48,\n",
      "        \"Student Government\": 42,\n",
      "        \"Student Theatre\": 51,\n",
      "        \"Teaching Assistant\": 50,\n",
      "        \"Volleyball\": 34,\n",
      "        \"Women in CS\": 42\n",
      "    },\n",
      "    \"Gender\": {\n",
      "        \"F\": 263,\n",
      "        \"M\": 237\n",
      "    },\n",
      "    \"Major\": {\n",
      "        \"Business\": 81,\n",
      "        \"Computer Science\": 90,\n",
      "        \"Electrical and Computer Engineering\": 84,\n",
      "        \"Information Systems\": 78,\n",
      "        \"Math\": 94,\n",
      "        \"Statistics and Machine Learning\": 73\n",
      "    },\n",
      "    \"Num Past Internships\": {\n",
      "        \"0\": 93,\n",
      "        \"1\": 97,\n",
      "        \"2\": 107,\n",
      "        \"3\": 97,\n",
      "        \"4\": 106\n",
      "    },\n",
      "    \"Num Programming Languages\": {\n",
      "        \"1\": 82,\n",
      "        \"2\": 109,\n",
      "        \"3\": 109,\n",
      "        \"4\": 104,\n",
      "        \"5\": 96\n",
      "    }\n",
      "}\n"
     ]
    }
   ],
   "source": [
    "columns = ['Major', 'Age', 'Gender', 'Extra Curricular', 'Num Programming Languages', 'Num Past Internships']\n",
    "distribution_counts = dict()\n",
    "for index, row in df.iterrows():\n",
    "  for i in range(len(columns)):\n",
    "    col = columns[i]\n",
    "    if curr_col not in distribution_counts:\n",
    "      distribution_counts[col] = dict()\n",
    "    if row[col] not in distribution_counts[col]:\n",
    "      distribution_counts[col][row[col]] = 0\n",
    "    distribution_counts[col][row[col]] += 1\n",
    "\n",
    "import json\n",
    "print(json.dumps(distribution_counts, sort_keys=True, indent=4))"
   ]
  },
  {
   "cell_type": "markdown",
   "metadata": {},
   "source": [
    "### Fairness - Group Aware"
   ]
  },
  {
   "cell_type": "code",
   "execution_count": 89,
   "metadata": {
    "scrolled": false
   },
   "outputs": [],
   "source": [
    "# Keep track of outputs, predicted vs actual for accuracy metrics to be done later\n",
    "predicted = []\n",
    "actual = []\n",
    "\n",
    "# Iterate over dataset and predict each student\n",
    "for index, row in df.iterrows():\n",
    "  fields = [\"student_id\", \"major\", \"age\", \"gender\", \"gpa\", \"extra_curricular\", \"num_programming_languages\", \"num_past_internships\"]\n",
    "  names = ['Student ID', 'Major', 'Age', 'Gender', 'GPA', 'Extra Curricular', 'Num Programming Languages', 'Num Past Internships']\n",
    "\n",
    "  # Create a student object for predicting\n",
    "  student = dict()\n",
    "  for i in range(len(fields)):\n",
    "    field = fields[i]\n",
    "    col = names[i]\n",
    "    student[field] = row[col]\n",
    "\n",
    "  # Get the outputs, predicted and actual\n",
    "  predicted.append(predict(student)['good_employee'])\n",
    "  actual.append(row['Good Candidate'])"
   ]
  },
  {
   "cell_type": "code",
   "execution_count": 90,
   "metadata": {},
   "outputs": [
    {
     "data": {
      "image/png": "[encoded data removed]",
      "text/plain": [
       "<Figure size 432x288 with 1 Axes>"
      ]
     },
     "metadata": {
      "needs_background": "light"
     },
     "output_type": "display_data"
    },
    {
     "data": {
      "image/png": "[encoded data removed]",
      "text/plain": [
       "<Figure size 432x288 with 1 Axes>"
      ]
     },
     "metadata": {
      "needs_background": "light"
     },
     "output_type": "display_data"
    },
    {
     "data": {
      "image/png": "[encoded data removed]",
      "text/plain": [
       "<Figure size 432x288 with 1 Axes>"
      ]
     },
     "metadata": {
      "needs_background": "light"
     },
     "output_type": "display_data"
    },
    {
     "data": {
      "image/png": "[encoded data removed]",
      "text/plain": [
       "<Figure size 432x288 with 1 Axes>"
      ]
     },
     "metadata": {
      "needs_background": "light"
     },
     "output_type": "display_data"
    },
    {
     "data": {
      "image/png": "[encoded data removed]",
      "text/plain": [
       "<Figure size 432x288 with 1 Axes>"
      ]
     },
     "metadata": {
      "needs_background": "light"
     },
     "output_type": "display_data"
    },
    {
     "data": {
      "image/png": "[encoded data removed]",
      "text/plain": [
       "<Figure size 432x288 with 1 Axes>"
      ]
     },
     "metadata": {
      "needs_background": "light"
     },
     "output_type": "display_data"
    },
    {
     "data": {
      "image/png": "[encoded data removed]",
      "text/plain": [
       "<Figure size 432x288 with 1 Axes>"
      ]
     },
     "metadata": {
      "needs_background": "light"
     },
     "output_type": "display_data"
    }
   ],
   "source": [
    "# Information for women\n",
    "df_women = df[df.Gender != 'M']\n",
    "\n",
    "# Distribution of all other fields (besides Gender)\n",
    "fields = ['Age', 'Major', 'GPA', 'Extra Curricular', 'Num Programming Languages', 'Num Past Internships', 'Good Candidate']\n",
    "for field in fields:\n",
    "  fig, ax = plt.subplots()\n",
    "  if field == 'GPA':\n",
    "    df_women[field].plot(kind='hist', edgecolor='yellow', title=field)\n",
    "  else:\n",
    "    df_women[field].value_counts().sort_index().plot(ax=ax, kind='bar', title=field)"
   ]
  },
  {
   "cell_type": "code",
   "execution_count": 91,
   "metadata": {},
   "outputs": [],
   "source": [
    "# Keep track of outputs, predicted vs actual for accuracy metrics to be done later\n",
    "predicted_women = []\n",
    "actual_women = []\n",
    "\n",
    "for index, row in df_women.iterrows():\n",
    "  fields = [\"student_id\", \"major\", \"age\", \"gender\", \"gpa\", \"extra_curricular\", \"num_programming_languages\", \"num_past_internships\"]\n",
    "  names = ['Student ID', 'Major', 'Age', 'Gender', 'GPA', 'Extra Curricular', 'Num Programming Languages', 'Num Past Internships']\n",
    "\n",
    "  student = dict()\n",
    "  for i in range(len(fields)):\n",
    "    field = fields[i]\n",
    "    col = col_names[i]\n",
    "    student[field] = row[col]\n",
    "\n",
    "  predicted_women.append(predict(student)['good_employee'])\n",
    "  actual_women.append(row['Good Candidate'])\n",
    "     "
   ]
  },
  {
   "cell_type": "code",
   "execution_count": 92,
   "metadata": {},
   "outputs": [
    {
     "name": "stdout",
     "output_type": "stream",
     "text": [
      "Accuracy score for women is  0.870722433460076\n",
      "Confusion matrix for women: \n",
      " [[140   2]\n",
      " [ 32  89]]\n"
     ]
    }
   ],
   "source": [
    "print(\"Accuracy score for women is \", accuracy_score(actual_women, predicted_women))\n",
    "print(\"Confusion matrix for women: \\n\", confusion_matrix(actual_women, predicted_women))"
   ]
  },
  {
   "cell_type": "code",
   "execution_count": 93,
   "metadata": {},
   "outputs": [
    {
     "data": {
      "image/png": "[encoded data removed]",
      "text/plain": [
       "<Figure size 432x288 with 1 Axes>"
      ]
     },
     "metadata": {
      "needs_background": "light"
     },
     "output_type": "display_data"
    },
    {
     "data": {
      "image/png": "[encoded data removed]",
      "text/plain": [
       "<Figure size 432x288 with 1 Axes>"
      ]
     },
     "metadata": {
      "needs_background": "light"
     },
     "output_type": "display_data"
    },
    {
     "data": {
      "image/png": "[encoded data removed]",
      "text/plain": [
       "<Figure size 432x288 with 1 Axes>"
      ]
     },
     "metadata": {
      "needs_background": "light"
     },
     "output_type": "display_data"
    },
    {
     "data": {
      "image/png": "[encoded data removed]",
      "text/plain": [
       "<Figure size 432x288 with 1 Axes>"
      ]
     },
     "metadata": {
      "needs_background": "light"
     },
     "output_type": "display_data"
    },
    {
     "data": {
      "image/png": "[encoded data removed]",
      "text/plain": [
       "<Figure size 432x288 with 1 Axes>"
      ]
     },
     "metadata": {
      "needs_background": "light"
     },
     "output_type": "display_data"
    },
    {
     "data": {
      "image/png": "[encoded data removed]",
      "text/plain": [
       "<Figure size 432x288 with 1 Axes>"
      ]
     },
     "metadata": {
      "needs_background": "light"
     },
     "output_type": "display_data"
    },
    {
     "data": {
      "image/png": "[encoded data removed]",
      "text/plain": [
       "<Figure size 432x288 with 1 Axes>"
      ]
     },
     "metadata": {
      "needs_background": "light"
     },
     "output_type": "display_data"
    }
   ],
   "source": [
    "# Men\n",
    "df_men = df[df.Gender != 'F']\n",
    "\n",
    "fields = ['Age', 'Major', 'GPA', 'Extra Curricular', 'Num Programming Languages', 'Num Past Internships', 'Good Candidate']\n",
    "for field in fields:\n",
    "  fig, ax = plt.subplots()\n",
    "  if field == 'GPA':\n",
    "    df_men[field].plot(kind='hist', edgecolor='white', title=field)\n",
    "  else:\n",
    "    df_men[field].value_counts().sort_index().plot(ax=ax, kind='bar', title=field)"
   ]
  },
  {
   "cell_type": "code",
   "execution_count": 94,
   "metadata": {},
   "outputs": [],
   "source": [
    "predicted_men = []\n",
    "actual_men = []\n",
    "\n",
    "for index, row in df_men.iterrows():\n",
    "  fields = [\"student_id\", \"major\", \"age\", \"gender\", \"gpa\", \"extra_curricular\", \"num_programming_languages\", \"num_past_internships\"]\n",
    "  names = ['Student ID', 'Major', 'Age', 'Gender', 'GPA', 'Extra Curricular', 'Num Programming Languages', 'Num Past Internships']\n",
    "\n",
    "  # Construct a student object to be predicted\n",
    "  student = dict()\n",
    "  for i in range(len(fields)):\n",
    "    field = fields[i]\n",
    "    col = names[i]\n",
    "    student[field] = row[col]\n",
    "\n",
    "  # Get the outputs, predicted and actual\n",
    "  predicted_men.append(predict(student)['good_employee'])\n",
    "  actual_men.append(row['Good Candidate'])\n",
    "     "
   ]
  },
  {
   "cell_type": "code",
   "execution_count": 95,
   "metadata": {},
   "outputs": [
    {
     "name": "stdout",
     "output_type": "stream",
     "text": [
      "Accuracy score for men is  0.7890295358649789\n",
      "Confusion matrix: \n",
      " [[ 81  40]\n",
      " [ 10 106]]\n"
     ]
    }
   ],
   "source": [
    "print(\"Accuracy score for men is \", accuracy_score(actual_men, predicted_men))\n",
    "print(\"Confusion matrix: \\n\", confusion_matrix(actual_men, predicted_men))"
   ]
  },
  {
   "cell_type": "code",
   "execution_count": 97,
   "metadata": {},
   "outputs": [
    {
     "name": "stdout",
     "output_type": "stream",
     "text": [
      "True Positive Rate (Recall) for men: 0.91\n",
      "True Positive Rate (Recall) for women: 0.74\n"
     ]
    }
   ],
   "source": [
    "# True positive rates for men and women\n",
    "from sklearn.metrics import confusion_matrix, recall_score\n",
    "\n",
    "# Men\n",
    "conf_matrix_men = confusion_matrix(actual_men, predicted_men)\n",
    "TP_men = conf_matrix_men[1, 1]\n",
    "FN_men = conf_matrix_men[1, 0]\n",
    "TPR_men = TP_men / (TP_men + FN_men)\n",
    "\n",
    "#######\n",
    "\n",
    "# Women\n",
    "conf_matrix_women = confusion_matrix(actual_women, predicted_women)\n",
    "TP_women = conf_matrix_women[1, 1]\n",
    "FN_women = conf_matrix_women[1, 0]\n",
    "TPR_women = TP_women / (TP_women + FN_women)\n",
    "\n",
    "# Print the TPR for men\n",
    "print(f\"True Positive Rate (Recall) for men: {TPR_men:.2f}\")\n",
    "# Print the TPR for women\n",
    "print(f\"True Positive Rate (Recall) for women: {TPR_women:.2f}\")"
   ]
  },
  {
   "cell_type": "markdown",
   "metadata": {},
   "source": [
    "### Fairness - Group Unaware"
   ]
  },
  {
   "cell_type": "code",
   "execution_count": 148,
   "metadata": {},
   "outputs": [],
   "source": [
    "predicted_men = []\n",
    "actual_men = []\n",
    "\n",
    "for index, row in df_men.iterrows():\n",
    "    fields = [\"student_id\", \"major\", \"age\", \"gender\", \"gpa\", \"extra_curricular\", \"num_programming_languages\", \"num_past_internships\"]\n",
    "    names = ['Student ID', 'Major', 'Age', 'Gender', 'GPA', 'Extra Curricular', 'Num Programming Languages', 'Num Past Internships']\n",
    "    student = {fields[i]: row[names[i]] for i in range(len(fields))}\n",
    "    predicted_men.append(predict(student)['good_employee'])\n",
    "    actual_men.append(row['Good Candidate'])"
   ]
  },
  {
   "cell_type": "code",
   "execution_count": 149,
   "metadata": {},
   "outputs": [],
   "source": [
    "predicted_women = []\n",
    "actual_women = []\n",
    "\n",
    "for index, row in df_women.iterrows():\n",
    "    fields = [\"student_id\", \"major\", \"age\", \"gender\", \"gpa\", \"extra_curricular\", \"num_programming_languages\", \"num_past_internships\"]\n",
    "    names = ['Student ID', 'Major', 'Age', 'Gender', 'GPA', 'Extra Curricular', 'Num Programming Languages', 'Num Past Internships']\n",
    "    student = {fields[i]: row[names[i]] for i in range(len(fields))}\n",
    "    predicted_women.append(predict(student)['good_employee'])\n",
    "    actual_women.append(row['Good Candidate'])\n"
   ]
  },
  {
   "cell_type": "markdown",
   "metadata": {},
   "source": [
    "### Fairness - Demographic Parity"
   ]
  },
  {
   "cell_type": "code",
   "execution_count": 150,
   "metadata": {},
   "outputs": [
    {
     "name": "stdout",
     "output_type": "stream",
     "text": [
      "Good candidates for men (predicted):  0.6160337552742616\n",
      "Good candidates for men (actual):  0.48945147679324896\n",
      "Good candidates for women (predicted):  0.34600760456273766\n",
      "Good candidates for women (actual):  0.4600760456273764\n"
     ]
    }
   ],
   "source": [
    "import numpy\n",
    "\n",
    "numpy_predicted_men = numpy.array(predicted_men)\n",
    "unique, counts = numpy.unique(numpy_predicted_men, return_counts=True)\n",
    "d = dict(zip(unique, counts))\n",
    "positive_men = d[1]\n",
    "total_men = d[0] + d[1]\n",
    "prediction_men = positive_men/total_men\n",
    "# number of predicted good candidates for men\n",
    "print(f\"Good candidates for men (predicted):  {prediction_men}\")\n",
    "\n",
    "\n",
    "numpy_actual_men = numpy.array(actual_men)\n",
    "unique, counts = numpy.unique(numpy_actual_men, return_counts=True)\n",
    "d = dict(zip(unique, counts))\n",
    "positive_men1 = d[1]\n",
    "total_men1 = d[0] + d[1]\n",
    "actual_men = positive_men1/total_men1\n",
    "# number of actual good candidates for men\n",
    "print(f\"Good candidates for men (actual):  {actual_men}\")\n",
    "\n",
    "\n",
    "numpy_predicted_women = numpy.array(predicted_women)\n",
    "unique, counts = numpy.unique(numpy_predicted_women, return_counts=True)\n",
    "d = dict(zip(unique, counts))\n",
    "positive_women = d[1]\n",
    "total_women = d[0] + d[1]\n",
    "prediction_women = positive_women/total_women\n",
    "# number of predicted good candidates for women\n",
    "print(f\"Good candidates for women (predicted):  {prediction_women}\")\n",
    "\n",
    "\n",
    "numpy_actual_women = numpy.array(actual_women)\n",
    "unique, counts = numpy.unique(numpy_actual_women, return_counts=True)\n",
    "d = dict(zip(unique, counts))\n",
    "positive_women1 = d[1]\n",
    "total_women1 = d[0] + d[1]\n",
    "actual_women = positive_women1/total_women1\n",
    "# number of actual good candidates for women\n",
    "print(f\"Good candidates for women (actual):  {actual_women}\")"
   ]
  },
  {
   "cell_type": "markdown",
   "metadata": {},
   "source": [
    "### Fairness Evaluation"
   ]
  },
  {
   "cell_type": "code",
   "execution_count": 174,
   "metadata": {},
   "outputs": [
    {
     "name": "stdout",
     "output_type": "stream",
     "text": [
      "0.5616698786395125\n",
      "0.9399829552904155\n"
     ]
    }
   ],
   "source": [
    "# Disparate Impact (DI)\n",
    "DI_predicted = prediction_women / prediction_men\n",
    "DI_actual = actual_women / actual_men\n",
    "\n",
    "print(DI_predicted)\n",
    "print(DI_actual)\n",
    "\n",
    "# Statistical Parity Difference (SPD)\n",
    "SPD_predicted = actual_women - prediction_men\n",
    "SPD_actual = actual_women - actual_men\n",
    "\n"
   ]
  },
  {
   "cell_type": "code",
   "execution_count": 177,
   "metadata": {},
   "outputs": [
    {
     "name": "stdout",
     "output_type": "stream",
     "text": [
      "Disparate Impact (DI) Predicted: 0.5616698786395125\n",
      "Disparate Impact (DI) Actual: 0.9399829552904155\n",
      "Statistical Parity Difference (SPD) Predicted: -0.1782559133656313\n",
      "Statistical Parity Difference (SPD) Actual: -0.1782559133656313\n",
      "Equal Opportunity Difference (EOD) Predicted: -0.1782559133656313\n",
      "Equal Opportunity Difference (EOD) Actual: 0.04999999999999993\n",
      "Equalized Odds Difference (EOD Positive) Predicted: -0.1782559133656313\n",
      "Equalized Odds Difference (EOD Negative) Predicted: 0.1782559133656313\n",
      "Equalized Odds Difference (EOD Positive) Actual: -0.1782559133656313\n",
      "Equalized Odds Difference (EOD Negative) Actual: 0.1782559133656313\n"
     ]
    }
   ],
   "source": [
    "# Disparate Impact (DI)\n",
    "DI_predicted = prediction_women / prediction_men\n",
    "DI_actual = actual_women / actual_men\n",
    "\n",
    "# Actual TPR values for men and women\n",
    "TPR_actual_men = TPR_men  # Replace with the actual True Positive Rate for men\n",
    "TPR_actual_women = TPR_women  # Replace with the actual True Positive Rate for women\n",
    "\n",
    "\n",
    "# Statistical Parity Difference (SPD)\n",
    "SPD_predicted = TPR_actual_women - TPR_actual_men\n",
    "SPD_actual = TPR_actual_women - TPR_actual_men\n",
    "\n",
    "# Equal Opportunity Difference (EOD)\n",
    "EOD_predicted = TPR_actual_women - TPR_actual_men\n",
    "\n",
    "# Equalized Odds Difference (EOD Positive and Negative)\n",
    "# Calculate the true negative rate for men and women\n",
    "TNR_actual_men = 1.0 - TPR_actual_men  # Assuming binary classification\n",
    "TNR_actual_women = 1.0 - TPR_actual_women\n",
    "\n",
    "EOD_positive_predicted = TPR_actual_women - TPR_actual_men\n",
    "EOD_negative_predicted = TNR_actual_women - TNR_actual_men\n",
    "\n",
    "EOD_positive_actual = TPR_actual_women - TPR_actual_men\n",
    "EOD_negative_actual = TNR_actual_women - TNR_actual_men\n",
    "\n",
    "print(\"Disparate Impact (DI) Predicted:\", DI_predicted)\n",
    "print(\"Disparate Impact (DI) Actual:\", DI_actual)\n",
    "\n",
    "print(\"Statistical Parity Difference (SPD) Predicted:\", SPD_predicted)\n",
    "print(\"Statistical Parity Difference (SPD) Actual:\", SPD_actual)\n",
    "\n",
    "print(\"Equal Opportunity Difference (EOD) Predicted:\", EOD_predicted)\n",
    "print(\"Equal Opportunity Difference (EOD) Actual:\", EOD_actual)\n",
    "\n",
    "print(\"Equalized Odds Difference (EOD Positive) Predicted:\", EOD_positive_predicted)\n",
    "print(\"Equalized Odds Difference (EOD Negative) Predicted:\", EOD_negative_predicted)\n",
    "\n",
    "print(\"Equalized Odds Difference (EOD Positive) Actual:\", EOD_positive_actual)\n",
    "print(\"Equalized Odds Difference (EOD Negative) Actual:\", EOD_negative_actual)\n"
   ]
  },
  {
   "cell_type": "code",
   "execution_count": null,
   "metadata": {},
   "outputs": [],
   "source": []
  }
 ],
 "metadata": {
  "kernelspec": {
   "display_name": "Python 3 (ipykernel)",
   "language": "python",
   "name": "python3"
  },
  "language_info": {
   "codemirror_mode": {
    "name": "ipython",
    "version": 3
   },
   "file_extension": ".py",
   "mimetype": "text/x-python",
   "name": "python",
   "nbconvert_exporter": "python",
   "pygments_lexer": "ipython3",
   "version": "3.8.13"
  }
 },
 "nbformat": 4,
 "nbformat_minor": 2
}
